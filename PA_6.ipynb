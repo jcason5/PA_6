{
 "cells": [
  {
   "cell_type": "markdown",
   "id": "db1fad34",
   "metadata": {},
   "source": [
    "### John Cason\n",
    "### Programming Assignment6\n",
    "### CS150-01"
   ]
  },
  {
   "cell_type": "markdown",
   "id": "0aa039cc",
   "metadata": {},
   "source": [
    "### Task1: Write a Python program will calculate the area and perimeter of a triangle using two different functions named calcArea() and calcPerimeter(). Your program should prompt the user for the length of three sides of the triangle. Each function should take the lengths of the sides as arguments and return the output of their respective calculations. As an added feature, set the default values of your parameters to 1 so if you call either function without parameters, it will still produce output) (I recommend using Heron’s Method for calculating the area of a triangle.)"
   ]
  },
  {
   "cell_type": "code",
   "execution_count": 13,
   "id": "4ec2c4d0",
   "metadata": {},
   "outputs": [
    {
     "name": "stdout",
     "output_type": "stream",
     "text": [
      "Enter the length of side 'a': 5\n",
      "Enter the length of side 'b': 5\n",
      "Enter the length of side 'c': 5\n",
      "Area of the triangle: 10.83\n",
      "Perimeter of the triangle: 15.00\n"
     ]
    }
   ],
   "source": [
    "import math\n",
    "def calcArea(a=1, b=1, c=1):\n",
    "    s = (a+b+c)/2\n",
    "    area = math.sqrt(s*(s-a)*(s-b)*(s-c))\n",
    "    return area\n",
    "def calcPerimeter(a=1, b=1, c=1):\n",
    "    perimeter =a+b+c\n",
    "    return perimeter\n",
    "try:\n",
    "    a = float(input(\"Enter the length of side 'a': \"))\n",
    "    b = float(input(\"Enter the length of side 'b': \"))\n",
    "    c = float(input(\"Enter the length of side 'c': \"))\n",
    "except ValueError:\n",
    "    print(\"Invalid input. Please enter valid numerical values.\")\n",
    "else:\n",
    "    area = calcArea(a, b, c)\n",
    "    perimeter = calcPerimeter(a, b, c)\n",
    "    print(f\"Area of the triangle: {area:.2f}\")\n",
    "    print(f\"Perimeter of the triangle: {perimeter:.2f}\")"
   ]
  },
  {
   "cell_type": "markdown",
   "id": "d8b514bf",
   "metadata": {},
   "source": [
    "### Task2: Write a Python program to play “Guess the Number”. Your program should generate a random number between 1 and 1000 and then prompt the user for a guess. Possible responses to the guess should be ‘Too high! Guess again’, ‘Too low! Guess again’, and ‘Correct!’."
   ]
  },
  {
   "cell_type": "code",
   "execution_count": 14,
   "id": "b16c550f",
   "metadata": {},
   "outputs": [
    {
     "name": "stdout",
     "output_type": "stream",
     "text": [
      "Guess a number between 1 and 1000: 4\n",
      "Too low! Guess again.\n",
      "Guess a number between 1 and 1000: 500\n",
      "Too low! Guess again.\n",
      "Guess a number between 1 and 1000: 750\n",
      "Too low! Guess again.\n",
      "Guess a number between 1 and 1000: 900\n",
      "Too high! Guess again.\n",
      "Guess a number between 1 and 1000: 825\n",
      "Too high! Guess again.\n",
      "Guess a number between 1 and 1000: 800\n",
      "Too high! Guess again.\n",
      "Guess a number between 1 and 1000: 775\n",
      "Too low! Guess again.\n",
      "Guess a number between 1 and 1000: 780\n",
      "Too low! Guess again.\n",
      "Guess a number between 1 and 1000: 795\n",
      "Too high! Guess again.\n",
      "Guess a number between 1 and 1000: 790\n",
      "Too high! Guess again.\n",
      "Guess a number between 1 and 1000: 786\n",
      "Too high! Guess again.\n",
      "Guess a number between 1 and 1000: 785\n",
      "Too high! Guess again.\n",
      "Guess a number between 1 and 1000: 784\n",
      "Too high! Guess again.\n",
      "Guess a number between 1 and 1000: 783\n",
      "Too high! Guess again.\n",
      "Guess a number between 1 and 1000: 782\n",
      "Too high! Guess again.\n",
      "Guess a number between 1 and 1000: 781\n",
      "Correct! You guessed the number 781 in 16 attempts.\n"
     ]
    }
   ],
   "source": [
    "import random\n",
    "random_number = random.randint(1, 1000)\n",
    "attempts = 0\n",
    "while True:\n",
    "    try:\n",
    "        user_guess = int(input(\"Guess a number between 1 and 1000: \"))\n",
    "    except ValueError:\n",
    "        print(\"Invalid input. Please enter a valid number.\")\n",
    "        continue\n",
    "    attempts += 1\n",
    "    if user_guess < random_number:\n",
    "        print(\"Too low! Guess again.\")\n",
    "    elif user_guess > random_number:\n",
    "        print(\"Too high! Guess again.\")\n",
    "    else:\n",
    "        print(f\"Correct! You guessed the number {random_number} in {attempts} attempts.\")\n",
    "        break"
   ]
  },
  {
   "cell_type": "markdown",
   "id": "2baf5d48",
   "metadata": {},
   "source": [
    "### Task3: Write a Python program to calculate the mean temperature over a set of Fahrenheit temperature values. Your program should calculate the mean in a function called meanTemp()and then print message that indicates the number of days your mean represents and the mean (see below). Your function should be flexible so that you can pass any number of temperatures to it. You do not need to get input from the user; simply include the temperatures in the function parameter list. Here is a sample run of the program:\n",
    "\n",
    "\n",
    "#### The mean temperature for the past 7 days is 88.00 degrees F. \n",
    "#### The mean temperature for the past 5 days is 88.20 degrees F. \n",
    "#### The mean temperature for the past 2 days is 90.00 degrees F.\n"
   ]
  },
  {
   "cell_type": "code",
   "execution_count": 15,
   "id": "7411078c",
   "metadata": {},
   "outputs": [
    {
     "name": "stdout",
     "output_type": "stream",
     "text": [
      "The mean temperature over 5 days is 78.00 degrees Fahrenheit.\n"
     ]
    }
   ],
   "source": [
    "def meanTemp(*temperatures):\n",
    "    if len(temperatures) == 0:\n",
    "        return None\n",
    "    total_temperature = sum(temperatures)\n",
    "    mean_temperature = total_temperature / len(temperatures)\n",
    "    num_days = len(temperatures)\n",
    "    return num_days, mean_temperature\n",
    "temperatures = [75, 82, 78, 85, 70]\n",
    "result = meanTemp(*temperatures)\n",
    "if result is not None:\n",
    "    num_days, mean_temperature = result\n",
    "    print(f\"The mean temperature over {num_days} days is {mean_temperature:.2f} degrees Fahrenheit.\")\n",
    "else:\n",
    "    print(\"No temperature data provided.\")"
   ]
  },
  {
   "cell_type": "code",
   "execution_count": null,
   "id": "66c01bd4",
   "metadata": {},
   "outputs": [],
   "source": []
  }
 ],
 "metadata": {
  "kernelspec": {
   "display_name": "Python 3 (ipykernel)",
   "language": "python",
   "name": "python3"
  },
  "language_info": {
   "codemirror_mode": {
    "name": "ipython",
    "version": 3
   },
   "file_extension": ".py",
   "mimetype": "text/x-python",
   "name": "python",
   "nbconvert_exporter": "python",
   "pygments_lexer": "ipython3",
   "version": "3.11.4"
  }
 },
 "nbformat": 4,
 "nbformat_minor": 5
}
